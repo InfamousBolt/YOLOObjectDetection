{
  "cells": [
    {
      "cell_type": "code",
      "execution_count": null,
      "metadata": {
        "id": "ON0R0E2OX7fV",
        "jupyter": {
          "outputs_hidden": false
        }
      },
      "outputs": [],
      "source": [
        "# you will be prompted with a window asking to grant permissions\n",
        "from google.colab import drive\n",
        "drive.mount(\"/content/drive\")"
      ]
    },
    {
      "cell_type": "code",
      "execution_count": null,
      "metadata": {
        "id": "PEk3zTUOX7fW",
        "jupyter": {
          "outputs_hidden": false
        }
      },
      "outputs": [],
      "source": [
        "# fill in the path in your Google Drive in the string below. Note: do not escape slashes or spaces\n",
        "import os\n",
        "datadir = \"/content/assignment4\"\n",
        "if not os.path.exists(datadir):\n",
        "  !ln -s \"/content/drive/MyDrive/assignment4\" $datadir # TODO: Fill your Assignment 4 path\n",
        "os.chdir(datadir)\n",
        "!pwd"
      ]
    },
    {
      "cell_type": "code",
      "execution_count": null,
      "metadata": {
        "id": "qAnVXjw5X7fX"
      },
      "outputs": [],
      "source": [
        "# NOTE: Loading data from Google Drive is VERY SLOW. Therefore, we download the data to a local storage\n",
        "# specified by VOC_PATH.\n",
        "# This means the data would have be re-downloaded everytime.\n",
        "# Change this path if you are running this script locally\n",
        "VOC_PATH=\"/content/VOC_DATA\"\n",
        "\n",
        "!chmod u+x ./download_data.sh\n",
        "!sed -i 's/\\r//g' ./download_data.sh\n",
        "!cat ./download_data.sh\n",
        "!bash ./download_data.sh $VOC_PATH"
      ]
    },
    {
      "cell_type": "code",
      "execution_count": null,
      "metadata": {
        "id": "AHZUra5tX7fY"
      },
      "outputs": [],
      "source": [
        "import os\n",
        "import random\n",
        "\n",
        "import cv2\n",
        "import numpy as np\n",
        "\n",
        "import torch\n",
        "from torch.utils.data import DataLoader\n",
        "\n",
        "from src.resnet_yolo import resnet50\n",
        "import yolo_loss\n",
        "from src.dataset import VocDetectorDataset\n",
        "from src.eval_voc import evaluate\n",
        "from src.predict import predict_image\n",
        "from src.config import VOC_CLASSES, COLORS\n",
        "from kaggle_submission import output_submission_csv\n",
        "\n",
        "import matplotlib.pyplot as plt\n",
        "import collections\n",
        "\n",
        "%matplotlib inline\n",
        "%load_ext autoreload\n",
        "%autoreload 2"
      ]
    },
    {
      "cell_type": "markdown",
      "metadata": {
        "id": "qZvncQeTX7fa"
      },
      "source": [
        "## Initialization"
      ]
    },
    {
      "cell_type": "code",
      "execution_count": null,
      "metadata": {
        "id": "pB7f0_T_X7fb"
      },
      "outputs": [],
      "source": [
        "device = torch.device(\"cuda:0\" if torch.cuda.is_available() else \"cpu\")"
      ]
    },
    {
      "cell_type": "code",
      "execution_count": null,
      "metadata": {
        "id": "cMumz3kWX7fc"
      },
      "outputs": [],
      "source": [
        "# YOLO network hyperparameters\n",
        "B = 2  # number of bounding box predictions per cell\n",
        "S = 14  # width/height of network output grid (larger than 7x7 from paper since we use a different network)"
      ]
    },
    {
      "cell_type": "markdown",
      "metadata": {
        "id": "GDJOGJVNcQiA"
      },
      "source": [
        "## **Start from here if you modified yolo_loss.py and wish to retrain**"
      ]
    },
    {
      "cell_type": "code",
      "execution_count": null,
      "metadata": {
        "id": "8qF8qiYgX7ff"
      },
      "outputs": [],
      "source": [
        "# We recommend tuning only the batch size; the remaining hyperparameters should work well\n",
        "# with the default values. However, you are free to experiment with them.\n",
        "\n",
        "learning_rate = 0.001\n",
        "num_epochs = 30\n",
        "batch_size = 16\n",
        "\n",
        "# Yolo loss component coefficients (as given in Yolo v1 paper)\n",
        "lambda_coord = 5\n",
        "lambda_noobj = 0.5"
      ]
    },
    {
      "cell_type": "markdown",
      "metadata": {
        "id": "SVW00IX_X7fg"
      },
      "source": [
        "## Reading Pascal Data"
      ]
    },
    {
      "cell_type": "markdown",
      "metadata": {
        "id": "UOpqV5sTX7fh"
      },
      "source": [
        "Since Pascal is a small dataset (5000 in train+val) we have combined the train and val splits to train our detector. This is not typically a good practice, but we will make an exception in this case to be able to get reasonable detection results with a comparatively small object detection dataset.\n",
        "\n",
        "The train dataset loader also using a variety of data augmentation techniques including random shift, scaling, crop, and flips. Data augmentation is slightly more complicated for detection datasets since the bounding box annotations must be kept consistent throughout the transformations.\n",
        "\n",
        "Since the output of the detector network we train is an SxSx(B*5+C), we use an encoder to convert the original bounding box coordinates into relative grid bounding box coordinates corresponding to the expected output. We also use a decoder which allows us to convert the opposite direction into image coordinate bounding boxes."
      ]
    },
    {
      "cell_type": "code",
      "execution_count": null,
      "metadata": {
        "id": "zR4AwEptX7fi"
      },
      "outputs": [],
      "source": [
        "file_root_train = os.path.join(VOC_PATH, 'VOCdevkit_2007/VOC2007/JPEGImages/')\n",
        "annotation_file_train = 'data/voc2007.txt'\n",
        "\n",
        "train_dataset = VocDetectorDataset(root_img_dir=file_root_train,dataset_file=annotation_file_train,train=True, S=S)\n",
        "train_loader = DataLoader(train_dataset,batch_size=batch_size,shuffle=True,num_workers=2)\n",
        "print('Loaded %d train images' % len(train_dataset))"
      ]
    },
    {
      "cell_type": "code",
      "execution_count": null,
      "metadata": {
        "id": "MlC3W3o4X7fi"
      },
      "outputs": [],
      "source": [
        "file_root_test = os.path.join(VOC_PATH, 'VOCdevkit_2007/VOC2007test/JPEGImages/')\n",
        "annotation_file_test = 'data/voc2007test.txt'\n",
        "\n",
        "test_dataset = VocDetectorDataset(root_img_dir=file_root_test,dataset_file=annotation_file_test,train=False, S=S)\n",
        "test_loader = DataLoader(test_dataset,batch_size=batch_size,shuffle=False,num_workers=2)\n",
        "print('Loaded %d test images' % len(test_dataset))"
      ]
    },
    {
      "cell_type": "code",
      "execution_count": null,
      "metadata": {
        "id": "NFel0zMfX7fj"
      },
      "outputs": [],
      "source": [
        "data = train_dataset[0]"
      ]
    },
    {
      "cell_type": "code",
      "source": [
        "drive_checkpoint_dir = '/content/drive/MyDrive/yolo_checkpoints'\n",
        "\n",
        "# Path to load training state\n",
        "state_file = f'{drive_checkpoint_dir}/training_state.json'\n",
        "\n",
        "# Load training state\n",
        "import json\n",
        "with open(state_file, 'r') as f:\n",
        "    state = json.load(f)\n",
        "    start_epoch = state['epoch']  # Should be 30\n",
        "    best_test_loss = state['best_test_loss']\n",
        "    learning_rate = state['learning_rate']\n",
        "    print(f'Resuming from epoch {start_epoch} with learning rate {learning_rate}')\n",
        "\n",
        "# Update num_epochs to continue training\n",
        "num_epochs = 30  # Or whatever your target is"
      ],
      "metadata": {
        "id": "o2y0qMMwVHo2"
      },
      "execution_count": null,
      "outputs": []
    },
    {
      "cell_type": "markdown",
      "metadata": {
        "id": "9Lyn9WiYbv7u"
      },
      "source": [
        "## Initializing the network"
      ]
    },
    {
      "cell_type": "markdown",
      "metadata": {
        "id": "8LikwVcFX7fc"
      },
      "source": [
        "To implement Yolo we will rely on a pretrained classifier as the backbone for our detection network. PyTorch offers a variety of models which are pretrained on ImageNet in the [`torchvision.models`](https://pytorch.org/docs/stable/torchvision/models.html) package. In particular, we will use the ResNet50 architecture as a base for our detector. This is different from the base architecture in the Yolo paper and also results in a different output grid size (14x14 instead of 7x7).\n",
        "\n",
        "Models are typically pretrained on ImageNet since the dataset is very large (> 1 million images) and widely used. The pretrained model provides a very useful weight initialization for our detector, so that the network is able to learn quickly and effectively."
      ]
    },
    {
      "cell_type": "code",
      "execution_count": null,
      "metadata": {
        "id": "r1G5Gq7jX7fd"
      },
      "outputs": [],
      "source": [
        "load_network_path = f'{drive_checkpoint_dir}/detector_epoch_10.pth'\n",
        "pretrained = False  # Since we're loading our own weights\n",
        "\n",
        "print('Loading saved network from {}'.format(load_network_path))\n",
        "net = resnet50().to(device)\n",
        "net.load_state_dict(torch.load(load_network_path))\n",
        "\n",
        "# # use to load a previously trained network\n",
        "# if load_network_path is not None:\n",
        "#     print('Loading saved network from {}'.format(load_network_path))\n",
        "#     net = resnet50().to(device)\n",
        "#     net.load_state_dict(torch.load(load_network_path))\n",
        "# else:\n",
        "#     print('Load pre-trained model')\n",
        "#     net = resnet50(pretrained=pretrained).to(device)"
      ]
    },
    {
      "cell_type": "code",
      "source": [
        "net = resnet50().to(device)"
      ],
      "metadata": {
        "id": "skd-bhoO_sZq"
      },
      "execution_count": null,
      "outputs": []
    },
    {
      "cell_type": "markdown",
      "metadata": {
        "id": "R2i0RgNwX7fj"
      },
      "source": [
        "## Set up training tools"
      ]
    },
    {
      "cell_type": "code",
      "source": [
        "import os\n",
        "import json\n",
        "from google.colab import drive\n",
        "\n",
        "# Mount Google Drive\n",
        "drive.mount('/content/drive')\n",
        "\n",
        "# Point to the shared checkpoint directory\n",
        "drive_checkpoint_dir = '/content/drive/MyDrive/yolo_checkpoints'\n",
        "print(f'Using checkpoint directory: {drive_checkpoint_dir}')\n",
        "\n",
        "# Path to load training state from Google Drive\n",
        "state_file = f'{drive_checkpoint_dir}/training_state.json'\n",
        "\n",
        "# Initialize or load training state\n",
        "start_epoch = 0\n",
        "best_test_loss = np.inf\n",
        "if os.path.exists(state_file):\n",
        "    with open(state_file, 'r') as f:\n",
        "        state = json.load(f)\n",
        "        start_epoch = state['epoch']\n",
        "        best_test_loss = state['best_test_loss']\n",
        "        learning_rate = state['learning_rate']\n",
        "        print(f'Resuming from epoch {start_epoch} with learning rate {learning_rate}')\n",
        "\n",
        "    # Load model checkpoint from Google Drive\n",
        "    if start_epoch > 0:\n",
        "        checkpoint_path = f'{drive_checkpoint_dir}/detector_epoch_{start_epoch}.pth'\n",
        "        if os.path.exists(checkpoint_path):\n",
        "            print(f'Loading model from {checkpoint_path}')\n",
        "            net.load_state_dict(torch.load(checkpoint_path))\n",
        "        else:\n",
        "            print(f'Checkpoint {checkpoint_path} not found, trying to load latest checkpoint')\n",
        "            latest_path = f'{drive_checkpoint_dir}/detector.pth'\n",
        "            if os.path.exists(latest_path):\n",
        "                print(f'Loading latest checkpoint from {latest_path}')\n",
        "                net.load_state_dict(torch.load(latest_path))\n",
        "            else:\n",
        "                print('No checkpoints found in the shared folder!')\n",
        "\n",
        "        # Update optimizer learning rate from saved state\n",
        "        for param_group in optimizer.param_groups:\n",
        "            param_group['lr'] = learning_rate\n",
        "else:\n",
        "    print(f'No training state file found at {state_file}!')\n",
        "    print('Please check that the shared Google Drive folder is accessible.')\n",
        "\n",
        "# Create local checkpoints directory (for temporary saving)\n",
        "os.makedirs('./checkpoints', exist_ok=True)"
      ],
      "metadata": {
        "id": "LunPy-GPZfC2"
      },
      "execution_count": null,
      "outputs": []
    },
    {
      "cell_type": "code",
      "source": [
        "start_epoch = 20  # Should be 20\n",
        "best_test_loss = 1\n",
        "learning_rate = 0.001\n",
        "checkpoint_path = f'{drive_checkpoint_dir}/detector_epoch_{start_epoch}.pth'\n",
        "print(f'Loading model from {checkpoint_path}')\n",
        "net.load_state_dict(torch.load(checkpoint_path))"
      ],
      "metadata": {
        "id": "CX_FWfdhMVg3"
      },
      "execution_count": null,
      "outputs": []
    },
    {
      "cell_type": "code",
      "execution_count": null,
      "metadata": {
        "id": "cJhd81anX7fk"
      },
      "outputs": [],
      "source": [
        "from importlib import reload\n",
        "reload(yolo_loss) # update the import if the implementation has changed\n",
        "\n",
        "criterion = yolo_loss.YoloLoss(S, B, lambda_coord, lambda_noobj)\n",
        "optimizer = torch.optim.SGD(net.parameters(), lr=learning_rate, momentum=0.9, weight_decay=5e-4)\n"
      ]
    },
    {
      "cell_type": "code",
      "source": [
        "num_epochs = 30"
      ],
      "metadata": {
        "id": "_gnxnyky_43L"
      },
      "execution_count": null,
      "outputs": []
    },
    {
      "cell_type": "markdown",
      "metadata": {
        "id": "SmqJlA_aX7fk"
      },
      "source": [
        "## Train detector"
      ]
    },
    {
      "cell_type": "code",
      "execution_count": null,
      "metadata": {
        "id": "F2ADvqoWX7fk"
      },
      "outputs": [],
      "source": [
        "best_test_loss = np.inf\n",
        "learning_rate = learning_rate\n",
        "\n",
        "os.makedirs('./checkpoints', exist_ok=True)\n",
        "for epoch in range(start_epoch, num_epochs):\n",
        "    net.train()\n",
        "\n",
        "    # Update learning rate late in training\n",
        "    if epoch == 30 or epoch == 40:\n",
        "        learning_rate /= 10.0\n",
        "\n",
        "    for param_group in optimizer.param_groups:\n",
        "        param_group['lr'] = learning_rate\n",
        "\n",
        "    print('\\n\\nStarting epoch %d / %d' % (epoch + 1, num_epochs))\n",
        "    print('Learning Rate for this epoch: {}'.format(learning_rate))\n",
        "\n",
        "    total_loss = collections.defaultdict(int)\n",
        "\n",
        "    for i, data in enumerate(train_loader):\n",
        "        data = (item.to(device) for item in data)\n",
        "        images, target_boxes, target_cls, has_object_map = data\n",
        "        pred = net(images)\n",
        "        loss_dict = criterion(pred, target_boxes, target_cls, has_object_map)\n",
        "        for key in loss_dict:\n",
        "            total_loss[key] += loss_dict[key].item()\n",
        "\n",
        "        optimizer.zero_grad()\n",
        "        loss_dict['total_loss'].backward()\n",
        "        optimizer.step()\n",
        "\n",
        "        if (i+1) % 50 == 0:\n",
        "            outstring = 'Epoch [%d/%d], Iter [%d/%d], Loss: ' % ((epoch+1, num_epochs, i+1, len(train_loader)))\n",
        "            outstring += ', '.join( \"%s=%.3f\" % (key[:-5], val / (i+1)) for key, val in total_loss.items() )\n",
        "            print(outstring)\n",
        "\n",
        "    # evaluate the network on the test data\n",
        "    if (epoch + 1) % 5 == 0:\n",
        "        test_aps = evaluate(net, test_dataset_file=annotation_file_test, img_root=file_root_test)\n",
        "        print(epoch, test_aps)\n",
        "    with torch.no_grad():\n",
        "        test_loss = 0.0\n",
        "        net.eval()\n",
        "        for i, data in enumerate(test_loader):\n",
        "            data = (item.to(device) for item in data)\n",
        "            images, target_boxes, target_cls, has_object_map = data\n",
        "\n",
        "            pred = net(images)\n",
        "            loss_dict = criterion(pred, target_boxes, target_cls, has_object_map)\n",
        "            test_loss += loss_dict['total_loss'].item()\n",
        "        test_loss /= len(test_loader)\n",
        "\n",
        "    if best_test_loss > test_loss:\n",
        "        best_test_loss = test_loss\n",
        "        print('Updating best test loss: %.5f' % best_test_loss)\n",
        "        torch.save(net.state_dict(),'checkpoints/best_detector.pth')\n",
        "\n",
        "    if (epoch+1) in [5, 10, 20, 30, 40]:\n",
        "        torch.save(net.state_dict(),'checkpoints/detector_epoch_%d.pth' % (epoch+1))\n",
        "\n",
        "    torch.save(net.state_dict(),'checkpoints/detector.pth')\n",
        "    state = {\n",
        "        'epoch': epoch + 1,\n",
        "        'best_test_loss': best_test_loss,\n",
        "        'learning_rate': learning_rate\n",
        "    }\n",
        "    with open(state_file, 'w') as f:\n",
        "        json.dump(state, f)\n",
        "\n"
      ]
    },
    {
      "cell_type": "markdown",
      "metadata": {
        "id": "5lHQ8ll1X7fl"
      },
      "source": [
        "# View example predictions"
      ]
    },
    {
      "cell_type": "code",
      "execution_count": null,
      "metadata": {
        "id": "v4hcBGydX7fl"
      },
      "outputs": [],
      "source": [
        "net.eval()\n",
        "\n",
        "# select random image from test set\n",
        "image_name = random.choice(test_dataset.fnames)\n",
        "image = cv2.imread(os.path.join(file_root_test, image_name))\n",
        "image = cv2.cvtColor(image, cv2.COLOR_BGR2RGB)\n",
        "\n",
        "print('predicting...')\n",
        "result = predict_image(net, image_name, root_img_directory=file_root_test)\n",
        "for left_up, right_bottom, class_name, _, prob in result:\n",
        "    color = COLORS[VOC_CLASSES.index(class_name)]\n",
        "    cv2.rectangle(image, left_up, right_bottom, color, 2)\n",
        "    label = class_name + str(round(prob, 2))\n",
        "    text_size, baseline = cv2.getTextSize(label, cv2.FONT_HERSHEY_SIMPLEX, 0.4, 1)\n",
        "    p1 = (left_up[0], left_up[1] - text_size[1])\n",
        "    cv2.rectangle(image, (p1[0] - 2 // 2, p1[1] - 2 - baseline), (p1[0] + text_size[0], p1[1] + text_size[1]),\n",
        "                  color, -1)\n",
        "    cv2.putText(image, label, (p1[0], p1[1] + baseline), cv2.FONT_HERSHEY_SIMPLEX, 0.4, (255, 255, 255), 1, 8)\n",
        "\n",
        "plt.figure(figsize = (15,15))\n",
        "plt.imshow(image)\n"
      ]
    },
    {
      "cell_type": "markdown",
      "metadata": {
        "collapsed": true,
        "id": "4fxlndkzX7fl",
        "jupyter": {
          "outputs_hidden": true
        }
      },
      "source": [
        "## Evaluate on Test\n",
        "\n",
        "To evaluate detection results we use mAP (mean of average precision over each class)"
      ]
    },
    {
      "cell_type": "code",
      "execution_count": null,
      "metadata": {
        "id": "aImURiZtX7fm"
      },
      "outputs": [],
      "source": [
        "test_aps = evaluate(net, test_dataset_file=annotation_file_test, img_root=file_root_test)"
      ]
    },
    {
      "cell_type": "markdown",
      "metadata": {
        "id": "K1KvQS3OX7fm"
      },
      "source": [
        "### Cell added to get intermediate mAP values for students"
      ]
    },
    {
      "cell_type": "code",
      "execution_count": null,
      "metadata": {
        "id": "CN67CWVZX7fn"
      },
      "outputs": [],
      "source": [
        "network_paths = ['./checkpoints/detector_epoch_%d.pth' % epoch for epoch in [20, 30]]+['./checkpoints/detector.pth']\n",
        "for load_network_path in network_paths:\n",
        "    print('Loading saved network from {}'.format(load_network_path))\n",
        "    net_loaded =  resnet50().to(device)\n",
        "    net_loaded.load_state_dict(torch.load(load_network_path))\n",
        "    evaluate(net_loaded, test_dataset_file=annotation_file_test, img_root=file_root_test)\n"
      ]
    },
    {
      "cell_type": "code",
      "execution_count": null,
      "metadata": {
        "id": "PUsGUoL7X7fn"
      },
      "outputs": [],
      "source": [
        "output_submission_csv('my_solution.csv', test_aps)"
      ]
    }
  ],
  "metadata": {
    "accelerator": "GPU",
    "colab": {
      "gpuType": "T4",
      "provenance": []
    },
    "kernelspec": {
      "display_name": "Python 3",
      "name": "python3"
    },
    "language_info": {
      "codemirror_mode": {
        "name": "ipython",
        "version": 3
      },
      "file_extension": ".py",
      "mimetype": "text/x-python",
      "name": "python",
      "nbconvert_exporter": "python",
      "pygments_lexer": "ipython3",
      "version": "3.11.9"
    }
  },
  "nbformat": 4,
  "nbformat_minor": 0
}